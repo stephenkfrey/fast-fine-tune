{
 "cells": [
  {
   "cell_type": "code",
   "execution_count": 2,
   "metadata": {},
   "outputs": [],
   "source": [
    "# write a scraper that reads the main body of a forum post and returns the text of the post\n",
    "import re\n",
    "import pandas as pd \n",
    "import requests\n",
    "from bs4 import BeautifulSoup\n",
    "\n",
    "\n",
    "def find_answer_nodes(soup):\n",
    "    \"\"\"\n",
    "    Extract the answer html between the question and the next question\n",
    "\n",
    "    Args:\n",
    "        soup: The soup of the question\n",
    "\n",
    "    Returns:\n",
    "        The formatted html of the answer\n",
    "    \n",
    "    \"\"\"\n",
    "    position = soup\n",
    "    answer_nodes = []\n",
    "    while True:\n",
    "        try:\n",
    "            position = position.find_next_sibling()\n",
    "            if 'start' in position.attrs:\n",
    "                break\n",
    "\n",
    "            answer_nodes.append(position.decode_contents())\n",
    "        except AttributeError:\n",
    "            break\n",
    "\n",
    "    return ''.join(answer_nodes).strip()\n",
    "\n",
    "\n",
    "def extract_qa(item):\n",
    "    \"\"\"\n",
    "    Extract the question and answer by an answer soup\n",
    "\n",
    "    Args: \n",
    "        item: The soup of the qa post \n",
    "\n",
    "    Returns:\n",
    "        A dictionary of the question and answer pairs \n",
    "    \"\"\"\n",
    "    title_tmp = item.select_one('li').decode_contents()\n",
    "    title = title_tmp.replace('<code>', '\\'').replace('</code>', '\\'')\n",
    "\n",
    "    # if 'What is the difference between tensor rank and shape?' in title:\n",
    "    #     print(111)\n",
    "\n",
    "    # Get the answer content\n",
    "    answer_inner_html = find_answer_nodes(item)  # Get original html\n",
    "\n",
    "    # Replace the code blocks\n",
    "    answer_inner_html = re.sub(r'<pre><code( class=\"[\\w-]+\")?>([\\s\\S]*?)</code></pre>', r'```\\2```', answer_inner_html)\n",
    "    answer_inner_html = answer_inner_html.replace('<code>', '\\'').replace('</code>', '\\'')\n",
    "\n",
    "    # Get content\n",
    "    answer_soup = BeautifulSoup(answer_inner_html, \"html.parser\")\n",
    "    answer = answer_soup.text\n",
    "\n",
    "    return {'title': title, 'answer': answer.strip()}\n",
    "\n",
    "\n",
    "def get_qa_post(post_url):\n",
    "    \"\"\"\n",
    "    Reads the main body of a forum post and returns the text of the post.\n",
    "    \n",
    "    Args:\n",
    "        post_url: The URL of the forum post.\n",
    "    \n",
    "    Returns:\n",
    "        The text of the forum post.\n",
    "    \"\"\"\n",
    "\n",
    "    # Read the HTML of the forum post\n",
    "    response = requests.get(post_url)\n",
    "    soup = BeautifulSoup(response.text, \"html.parser\")\n",
    "\n",
    "    items = soup.find_all('ol')\n",
    "\n",
    "    # Get the valid question titles\n",
    "    QAs = []\n",
    "    for i, item in enumerate(items):\n",
    "        # Only get question pairs\n",
    "        if i == 0 or 'start' in item.attrs:\n",
    "            QAs.append(extract_qa(item))\n",
    "\n",
    "    return QAs\n",
    "\n"
   ]
  },
  {
   "cell_type": "code",
   "execution_count": 3,
   "metadata": {},
   "outputs": [],
   "source": [
    "# get the forum post for 4 \n",
    "\n",
    "url = \"https://forums.fast.ai/t/fastbook-chapter-4-questionnaire-solutions-wiki/67253\"\n",
    "qa_dict = get_qa_post(url)\n",
    "# print(qa_dict)\n",
    "\n",
    "pd.DataFrame(qa_dict).to_csv('fastai-1.csv', index=False)\n"
   ]
  },
  {
   "cell_type": "code",
   "execution_count": 6,
   "metadata": {},
   "outputs": [
    {
     "data": {
      "text/html": [
       "<div>\n",
       "<style scoped>\n",
       "    .dataframe tbody tr th:only-of-type {\n",
       "        vertical-align: middle;\n",
       "    }\n",
       "\n",
       "    .dataframe tbody tr th {\n",
       "        vertical-align: top;\n",
       "    }\n",
       "\n",
       "    .dataframe thead th {\n",
       "        text-align: right;\n",
       "    }\n",
       "</style>\n",
       "<table border=\"1\" class=\"dataframe\">\n",
       "  <thead>\n",
       "    <tr style=\"text-align: right;\">\n",
       "      <th></th>\n",
       "      <th>Chapter</th>\n",
       "      <th>URL</th>\n",
       "    </tr>\n",
       "  </thead>\n",
       "  <tbody>\n",
       "    <tr>\n",
       "      <th>0</th>\n",
       "      <td>1</td>\n",
       "      <td>https://forums.fast.ai/t/fastbook-chapter-1-qu...</td>\n",
       "    </tr>\n",
       "    <tr>\n",
       "      <th>1</th>\n",
       "      <td>2</td>\n",
       "      <td>https://forums.fast.ai/t/fastbook-chapter-2-qu...</td>\n",
       "    </tr>\n",
       "    <tr>\n",
       "      <th>2</th>\n",
       "      <td>3</td>\n",
       "      <td>https://forums.fast.ai/t/fastbook-chapter-3-qu...</td>\n",
       "    </tr>\n",
       "    <tr>\n",
       "      <th>3</th>\n",
       "      <td>4</td>\n",
       "      <td>https://forums.fast.ai/t/fastbook-chapter-4-qu...</td>\n",
       "    </tr>\n",
       "    <tr>\n",
       "      <th>4</th>\n",
       "      <td>5</td>\n",
       "      <td>https://forums.fast.ai/t/fastbook-chapter-5-qu...</td>\n",
       "    </tr>\n",
       "  </tbody>\n",
       "</table>\n",
       "</div>"
      ],
      "text/plain": [
       "   Chapter                                                URL\n",
       "0        1  https://forums.fast.ai/t/fastbook-chapter-1-qu...\n",
       "1        2  https://forums.fast.ai/t/fastbook-chapter-2-qu...\n",
       "2        3  https://forums.fast.ai/t/fastbook-chapter-3-qu...\n",
       "3        4  https://forums.fast.ai/t/fastbook-chapter-4-qu...\n",
       "4        5  https://forums.fast.ai/t/fastbook-chapter-5-qu..."
      ]
     },
     "execution_count": 6,
     "metadata": {},
     "output_type": "execute_result"
    }
   ],
   "source": [
    "# load the csv file \"forum pages\" into a df and then loop through the pages and scrape the questions and answers\n",
    "forum_urls_df = pd.read_csv('fastai-solutions-forum-pages.csv') \n",
    "forum_urls_df.head()"
   ]
  },
  {
   "cell_type": "code",
   "execution_count": 17,
   "metadata": {},
   "outputs": [
    {
     "name": "stdout",
     "output_type": "stream",
     "text": [
      "0 https://forums.fast.ai/t/fastbook-chapter-1-questionnaire-solutions-wiki/65647\n",
      "https://forums.fast.ai/t/fastbook-chapter-1-questionnaire-solutions-wiki/65647\n",
      "1 https://forums.fast.ai/t/fastbook-chapter-2-questionnaire-solutions-wiki/66392\n",
      "https://forums.fast.ai/t/fastbook-chapter-2-questionnaire-solutions-wiki/66392\n",
      "2 https://forums.fast.ai/t/fastbook-chapter-3-questionnaire-solutions-wiki/68042\n",
      "https://forums.fast.ai/t/fastbook-chapter-3-questionnaire-solutions-wiki/68042\n",
      "3 https://forums.fast.ai/t/fastbook-chapter-4-questionnaire-solutions-wiki/67253\n",
      "https://forums.fast.ai/t/fastbook-chapter-4-questionnaire-solutions-wiki/67253\n",
      "4 https://forums.fast.ai/t/fastbook-chapter-5-questionnaire-solutions-wiki/69301\n",
      "https://forums.fast.ai/t/fastbook-chapter-5-questionnaire-solutions-wiki/69301\n",
      "5 https://forums.fast.ai/t/fastbook-chapter-6-questionnaire-solutions-wiki/69922\n",
      "https://forums.fast.ai/t/fastbook-chapter-6-questionnaire-solutions-wiki/69922\n",
      "6 nan\n",
      "7 https://forums.fast.ai/t/fastbook-chapter-8-questionnaire-solutions-wiki/69926\n",
      "https://forums.fast.ai/t/fastbook-chapter-8-questionnaire-solutions-wiki/69926\n",
      "8 https://forums.fast.ai/t/fastbook-chapter-9-questionnaire-solutions-wiki/69932\n",
      "https://forums.fast.ai/t/fastbook-chapter-9-questionnaire-solutions-wiki/69932\n",
      "9 https://forums.fast.ai/t/fastbook-chapter-10-questionnaire-solutions-wiki/70506\n",
      "https://forums.fast.ai/t/fastbook-chapter-10-questionnaire-solutions-wiki/70506\n",
      "10 https://forums.fast.ai/t/fastbook-chapter-11-questionnaire-solutions-wiki/88037\n",
      "https://forums.fast.ai/t/fastbook-chapter-11-questionnaire-solutions-wiki/88037\n"
     ]
    },
    {
     "name": "stderr",
     "output_type": "stream",
     "text": [
      "/usr/local/Caskroom/miniconda/base/envs/ml/lib/python3.10/site-packages/bs4/__init__.py:435: MarkupResemblesLocatorWarning: The input looks more like a filename than markup. You may want to open this file and pass the filehandle into Beautiful Soup.\n",
      "  warnings.warn(\n"
     ]
    },
    {
     "name": "stdout",
     "output_type": "stream",
     "text": [
      "11 https://forums.fast.ai/t/fastbook-chapter-12-questionnaire-wiki/70516\n",
      "https://forums.fast.ai/t/fastbook-chapter-12-questionnaire-wiki/70516\n",
      "12 nan\n",
      "13 nan\n",
      "14 nan\n",
      "15 nan\n",
      "16 nan\n",
      "17 nan\n",
      "18 nan\n",
      "19 nan\n"
     ]
    }
   ],
   "source": [
    "\n",
    "# loop through the pages and scrape the questions and answers\n",
    "qa_dict = []\n",
    "for i, row in forum_urls_df.iterrows():\n",
    "    print(i, row['URL'])\n",
    "\n",
    "    # if it contains nan or is empty or is not a url, skip\n",
    "    if not pd.isna(row['URL']) and row['URL'].startswith('https'):\n",
    "        print(row['URL'])\n",
    "        qa_dict.extend(get_qa_post(row['URL']))\n",
    "\n",
    "# save the questions and answers to a csv file\n",
    "qadict = pd.DataFrame(qa_dict)\n",
    "qadict.to_csv('fastai-2.csv', index=False)\n"
   ]
  },
  {
   "cell_type": "code",
   "execution_count": 20,
   "metadata": {},
   "outputs": [
    {
     "name": "stdout",
     "output_type": "stream",
     "text": [
      "297\n"
     ]
    }
   ],
   "source": [
    "# print(qadict.head())\n",
    "print(len(qadict))"
   ]
  },
  {
   "cell_type": "code",
   "execution_count": 22,
   "metadata": {},
   "outputs": [
    {
     "data": {
      "text/html": [
       "<div>\n",
       "<style scoped>\n",
       "    .dataframe tbody tr th:only-of-type {\n",
       "        vertical-align: middle;\n",
       "    }\n",
       "\n",
       "    .dataframe tbody tr th {\n",
       "        vertical-align: top;\n",
       "    }\n",
       "\n",
       "    .dataframe thead th {\n",
       "        text-align: right;\n",
       "    }\n",
       "</style>\n",
       "<table border=\"1\" class=\"dataframe\">\n",
       "  <thead>\n",
       "    <tr style=\"text-align: right;\">\n",
       "      <th></th>\n",
       "      <th>question</th>\n",
       "      <th>answer</th>\n",
       "    </tr>\n",
       "  </thead>\n",
       "  <tbody>\n",
       "    <tr>\n",
       "      <th>0</th>\n",
       "      <td>Based on the book of the same name, what are t...</td>\n",
       "      <td>- A set of processing units\\n- A state of acti...</td>\n",
       "    </tr>\n",
       "    <tr>\n",
       "      <th>1</th>\n",
       "      <td>What were the two theoretical misunderstanding...</td>\n",
       "      <td>In 1969, Marvin Minsky and Seymour Papert demo...</td>\n",
       "    </tr>\n",
       "    <tr>\n",
       "      <th>2</th>\n",
       "      <td>What is a GPU?</td>\n",
       "      <td>GPU stands for Graphics Processing Unit (also ...</td>\n",
       "    </tr>\n",
       "    <tr>\n",
       "      <th>6</th>\n",
       "      <td>Why is it hard to use a traditional computer p...</td>\n",
       "      <td>For us humans, it is easy to identify images i...</td>\n",
       "    </tr>\n",
       "    <tr>\n",
       "      <th>7</th>\n",
       "      <td>What term do we normally use in deep learning ...</td>\n",
       "      <td>We instead use the term parameters. In deep le...</td>\n",
       "    </tr>\n",
       "  </tbody>\n",
       "</table>\n",
       "</div>"
      ],
      "text/plain": [
       "                                            question  \\\n",
       "0  Based on the book of the same name, what are t...   \n",
       "1  What were the two theoretical misunderstanding...   \n",
       "2                                     What is a GPU?   \n",
       "6  Why is it hard to use a traditional computer p...   \n",
       "7  What term do we normally use in deep learning ...   \n",
       "\n",
       "                                              answer  \n",
       "0  - A set of processing units\\n- A state of acti...  \n",
       "1  In 1969, Marvin Minsky and Seymour Papert demo...  \n",
       "2  GPU stands for Graphics Processing Unit (also ...  \n",
       "6  For us humans, it is easy to identify images i...  \n",
       "7  We instead use the term parameters. In deep le...  "
      ]
     },
     "execution_count": 22,
     "metadata": {},
     "output_type": "execute_result"
    }
   ],
   "source": [
    "# open the csv file, remove empty lines, and ensure every line has a question and answer, and ensure answers end with a '.' or ' 'ArithmeticError\n",
    "qa_df = pd.read_csv('fastai-qa-cropped.csv')\n",
    "qa_df = qa_df.dropna()\n",
    "# if an answer does not end with a '.' or ' ' or '`', add a '.'\n",
    "qa_df['answer'] = qa_df['answer'].apply(lambda x: x if x.endswith('.') or x.endswith(' ') or x.endswith('`') else x + '.')\n",
    "# save the questions and answers to a csv file\n",
    "qa_df.to_csv('fastai-qa-cleaned.csv', index=False)\n",
    "qa_df.head()"
   ]
  },
  {
   "cell_type": "code",
   "execution_count": null,
   "metadata": {},
   "outputs": [],
   "source": [
    "# now let's get the CSV from GPT \n",
    "\n",
    "gpt_df = pd.read_csv('fastai-gpt.csv')\n"
   ]
  }
 ],
 "metadata": {
  "kernelspec": {
   "display_name": "Python 3.10.4 ('ml')",
   "language": "python",
   "name": "python3"
  },
  "language_info": {
   "codemirror_mode": {
    "name": "ipython",
    "version": 3
   },
   "file_extension": ".py",
   "mimetype": "text/x-python",
   "name": "python",
   "nbconvert_exporter": "python",
   "pygments_lexer": "ipython3",
   "version": "3.10.4"
  },
  "orig_nbformat": 4,
  "vscode": {
   "interpreter": {
    "hash": "d905c6a59c21f0f46be93fdc832728644d115a3fdfd57971d06d899b53e0576e"
   }
  }
 },
 "nbformat": 4,
 "nbformat_minor": 2
}
