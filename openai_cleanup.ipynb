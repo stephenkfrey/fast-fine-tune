{
 "cells": [
  {
   "cell_type": "code",
   "execution_count": 1,
   "metadata": {},
   "outputs": [],
   "source": [
    "import re\n",
    "import pandas as pd \n",
    "import numpy as np\n",
    "import openai \n",
    "from dotenv import load_dotenv\n",
    "load_dotenv()\n",
    "# set the api key\n",
    "openai.api_key = os.getenv(\"OPENAI_API_KEY\")"
   ]
  },
  {
   "cell_type": "code",
   "execution_count": 8,
   "metadata": {},
   "outputs": [],
   "source": [
    "# use the openai api to list all fine-tuned models\n",
    "models = openai.Engine.list()\n",
    "\n"
   ]
  },
  {
   "cell_type": "code",
   "execution_count": 10,
   "metadata": {},
   "outputs": [],
   "source": [
    "# use the openai api to list all fine-tuned models that i have created \n",
    "models = openai.FineTune.list()\n",
    "# unpack the data from each model object and save it to a dataframe\n",
    "modeldf = pd.DataFrame([model for model in models['data']])"
   ]
  },
  {
   "cell_type": "code",
   "execution_count": 14,
   "metadata": {},
   "outputs": [],
   "source": [
    "# add a row for a human readable version of the created_at date\n",
    "from datetime import datetime\n",
    "modeldf['created_at_readable'] = modeldf['created_at'].apply(lambda x: datetime.fromtimestamp(x).strftime('%Y-%m-%d %H:%M:%S'))\n",
    "\n",
    "#move the created_at_readable column to the front of the dataframe\n",
    "cols = modeldf.columns.tolist()\n",
    "cols = cols[-1:] + cols[:-1]\n",
    "modeldf = modeldf[cols]"
   ]
  },
  {
   "cell_type": "code",
   "execution_count": null,
   "metadata": {},
   "outputs": [],
   "source": [
    "def get_ftmodel_name_from_id(id):\n",
    "    ftmodel = openai.FineTune.retrieve(id)\n",
    "    return ftmodel['fine_tuned_model'"
   ]
  },
  {
   "cell_type": "code",
   "execution_count": null,
   "metadata": {},
   "outputs": [],
   "source": [
    "# use the openai to delete all fine-tuned models that i have created so far \n",
    "for model in models['data']:\n",
    "    ftmodel_name = get_ftmodel_name_from_id(model.id)\n",
    "    openai.FineTune.delete(ftmodel_name)\n",
    "\n",
    "#from docs \n",
    "# openai.Model.delete(FINE_TUNED_MODEL) # use the name "
   ]
  }
 ],
 "metadata": {
  "kernelspec": {
   "display_name": "papers",
   "language": "python",
   "name": "python3"
  },
  "language_info": {
   "codemirror_mode": {
    "name": "ipython",
    "version": 3
   },
   "file_extension": ".py",
   "mimetype": "text/x-python",
   "name": "python",
   "nbconvert_exporter": "python",
   "pygments_lexer": "ipython3",
   "version": "3.7.8 | packaged by conda-forge | (default, Nov 27 2020, 19:11:24) \n[Clang 11.0.0 ]"
  },
  "orig_nbformat": 4,
  "vscode": {
   "interpreter": {
    "hash": "1bf0429cbc4594f61fb4a70c70f57b312684948f13d28d948c6a6ee3f95ed4f0"
   }
  }
 },
 "nbformat": 4,
 "nbformat_minor": 2
}
