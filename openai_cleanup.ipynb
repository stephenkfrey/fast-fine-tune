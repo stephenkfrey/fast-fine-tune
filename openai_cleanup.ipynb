{
 "cells": [
  {
   "cell_type": "code",
   "execution_count": 1,
   "metadata": {},
   "outputs": [],
   "source": [
    "import re\n",
    "import pandas as pd \n",
    "import numpy as np\n",
    "import openai \n",
    "from dotenv import load_dotenv\n",
    "load_dotenv()\n",
    "# set the api key\n",
    "openai.api_key = os.getenv(\"OPENAI_API_KEY\")"
   ]
  },
  {
   "cell_type": "code",
   "execution_count": 8,
   "metadata": {},
   "outputs": [],
   "source": [
    "# use the openai api to list all fine-tuned models\n",
    "models = openai.Engine.list()\n",
    "\n"
   ]
  },
  {
   "cell_type": "code",
   "execution_count": 10,
   "metadata": {},
   "outputs": [],
   "source": [
    "# use the openai api to list all fine-tuned models that i have created \n",
    "models = openai.FineTune.list()\n",
    "# unpack the data from each model object and save it to a dataframe\n",
    "modeldf = pd.DataFrame([model for model in models['data']])"
   ]
  },
  {
   "cell_type": "code",
   "execution_count": 14,
   "metadata": {},
   "outputs": [],
   "source": [
    "# add a row for a human readable version of the created_at date\n",
    "from datetime import datetime\n",
    "modeldf['created_at_readable'] = modeldf['created_at'].apply(lambda x: datetime.fromtimestamp(x).strftime('%Y-%m-%d %H:%M:%S'))\n",
    "\n",
    "#move the created_at_readable column to the front of the dataframe\n",
    "cols = modeldf.columns.tolist()\n",
    "cols = cols[-1:] + cols[:-1]\n",
    "modeldf = modeldf[cols]\n"
   ]
  },
  {
   "cell_type": "code",
   "execution_count": null,
   "metadata": {},
   "outputs": [],
   "source": [
    "# use the openai to delete all fine-tuned models that i have created\n",
    "for model in models['data']:\n",
    "    openai.FineTune.delete(model.id)\n",
    "\n",
    "#from docs \n",
    "openai.Model.delete(FINE_TUNED_MODEL) # use the name "
   ]
  }
 ],
 "metadata": {
  "kernelspec": {
   "display_name": "Python 3.10.4 ('ml')",
   "language": "python",
   "name": "python3"
  },
  "language_info": {
   "codemirror_mode": {
    "name": "ipython",
    "version": 3
   },
   "file_extension": ".py",
   "mimetype": "text/x-python",
   "name": "python",
   "nbconvert_exporter": "python",
   "pygments_lexer": "ipython3",
   "version": "3.10.4"
  },
  "orig_nbformat": 4,
  "vscode": {
   "interpreter": {
    "hash": "d905c6a59c21f0f46be93fdc832728644d115a3fdfd57971d06d899b53e0576e"
   }
  }
 },
 "nbformat": 4,
 "nbformat_minor": 2
}
