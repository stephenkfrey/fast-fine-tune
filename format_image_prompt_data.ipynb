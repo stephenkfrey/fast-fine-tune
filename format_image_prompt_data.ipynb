{
 "cells": [
  {
   "cell_type": "code",
   "execution_count": null,
   "metadata": {},
   "outputs": [],
   "source": []
  },
  {
   "cell_type": "code",
   "execution_count": 13,
   "metadata": {},
   "outputs": [],
   "source": [
    "extended_image_prompt_prepend=\"\"\"You will be shown a series of captions for images. Please write augmented, expanded, enhanced versions of the captions, that describe more detail the types of vibes, illustration, lighting, photography, historical era, textures, listings on artstation, and other properties that might be relevant based on the original prompt. \n",
    "Please answer with this format: \n",
    "\n",
    "Original: {Original Caption}\n",
    "Expanded: {Expanded Caption}\n",
    "\n",
    "Examples: \n",
    "\n",
    "Original: A ufo landing\n",
    "Expanded: A ufo landing, sci-fi, metallic, unreal engine, trending on artstation\n",
    "\n",
    "Original:  A dog in a field\n",
    "Expanded: A golden retriever puppy in a sunlit, rolling meadow, grassy, outdoor, photorealistic, vibrant colors. \n",
    "\n",
    "Original: \"\"\"\n"
   ]
  },
  {
   "cell_type": "code",
   "execution_count": 14,
   "metadata": {},
   "outputs": [
    {
     "name": "stdout",
     "output_type": "stream",
     "text": [
      "You will be shown a series of captions for images. Please write augmented, expanded, enhanced versions of the captions, that describe more detail the types of vibes, illustration, lighting, photography, historical era, textures, listings on artstation, and other properties that might be relevant based on the original prompt. \n",
      "Please answer with this format: \n",
      "\n",
      "Original: {Original Caption}\n",
      "Expanded: {Expanded Caption}\n",
      "\n",
      "Examples: \n",
      "\n",
      "Original: A ufo landing\n",
      "Expanded: A ufo landing, sci-fi, metallic, unreal engine, trending on artstation\n",
      "\n",
      "Original:  A dog in a field\n",
      "Expanded: A golden retriever puppy in a sunlit, rolling meadow, grassy, outdoor, photorealistic, vibrant colors. \n",
      "\n",
      "Original: \n"
     ]
    }
   ],
   "source": [
    "print(extended_image_prompt_prepend)"
   ]
  },
  {
   "cell_type": "code",
   "execution_count": 19,
   "metadata": {},
   "outputs": [
    {
     "name": "stdout",
     "output_type": "stream",
     "text": [
      "data/prompt-enhancement-image-generation_prepended.csv\n"
     ]
    }
   ],
   "source": [
    "# prepend this to every item in the first column in the csv file\n",
    "# then save the file as a new csv file\n",
    "\n",
    "import csv\n",
    "\n",
    "filepath = 'data/prompt-enhancement-image-generation.csv'\n",
    "\n",
    "\n",
    "with open('data/prompt-enhancement-image-generation.csv', 'r') as f:\n",
    "    reader = csv.reader(f)\n",
    "    your_list = list(reader)\n",
    "\n",
    "for i in range(len(your_list)):\n",
    "    # skip the first row \n",
    "    if i == 0:\n",
    "        continue\n",
    "    your_list[i][0] = extended_image_prompt_prepend + your_list[i][0]\n",
    "    your_list[i][1] = \"Expanded: \" + your_list[i][1]\n",
    "\n",
    "prepended_filepath = f\"{filepath[:-4]}_prepended.csv\"\n",
    "print(prepended_filepath)\n",
    "\n",
    "with open(f\"{filepath[:-4]}_prepended.csv\", 'w') as f:\n",
    "    writer = csv.writer(f)\n",
    "    writer.writerows(your_list)\n",
    "\n",
    "    # and add the word \"Expanded:\" to every entry in the second column in the csv file\n",
    "    # then save the file as a new csv file\n",
    "\n"
   ]
  },
  {
   "cell_type": "code",
   "execution_count": null,
   "metadata": {},
   "outputs": [],
   "source": []
  },
  {
   "cell_type": "code",
   "execution_count": null,
   "metadata": {},
   "outputs": [],
   "source": []
  }
 ],
 "metadata": {
  "kernelspec": {
   "display_name": "papers",
   "language": "python",
   "name": "python3"
  },
  "language_info": {
   "codemirror_mode": {
    "name": "ipython",
    "version": 3
   },
   "file_extension": ".py",
   "mimetype": "text/x-python",
   "name": "python",
   "nbconvert_exporter": "python",
   "pygments_lexer": "ipython3",
   "version": "3.7.8"
  },
  "orig_nbformat": 4,
  "vscode": {
   "interpreter": {
    "hash": "1bf0429cbc4594f61fb4a70c70f57b312684948f13d28d948c6a6ee3f95ed4f0"
   }
  }
 },
 "nbformat": 4,
 "nbformat_minor": 2
}
