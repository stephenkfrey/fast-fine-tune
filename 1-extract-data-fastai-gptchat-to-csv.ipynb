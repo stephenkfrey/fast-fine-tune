{
 "cells": [
  {
   "cell_type": "markdown",
   "metadata": {},
   "source": [
    "# Extract raw data into prompt-completion pairs\n",
    "\n",
    "INPUTS: raw data of some type\n",
    "\n",
    "OUTPUTS: formatted prompt-completion dataframes, ready to be fed to the fine-tuning scripts in the second notebook\n",
    "\n",
    "------\n",
    "\n",
    "This notebook contains sequences that extract prompt-completion pairs. \n",
    "From two sources\n",
    "\n",
    "1) extracts QA pairs from the fastai forums\n",
    "2) formats a log of a GPT QA Chat to a prompt-completion sequence"
   ]
  },
  {
   "cell_type": "markdown",
   "metadata": {},
   "source": [
    "### 1) Custom web scraper for fast.ai forums "
   ]
  },
  {
   "cell_type": "code",
   "execution_count": null,
   "metadata": {},
   "outputs": [],
   "source": [
    "# write a scraper that reads the main body of a forum post and returns the text of the post\n",
    "import re\n",
    "import pandas as pd \n",
    "import requests\n",
    "from bs4 import BeautifulSoup\n",
    "import numpy as np\n",
    "\n",
    "\n",
    "def find_answer_nodes(soup):\n",
    "    \"\"\"\n",
    "    Extract the answer html between the question and the next question\n",
    "\n",
    "    Args:\n",
    "        soup: The soup of the question\n",
    "\n",
    "    Returns:\n",
    "        The formatted html of the answer\n",
    "    \n",
    "    \"\"\"\n",
    "    position = soup\n",
    "    answer_nodes = []\n",
    "    while True:\n",
    "        try:\n",
    "            position = position.find_next_sibling()\n",
    "            if 'start' in position.attrs:\n",
    "                break\n",
    "\n",
    "            answer_nodes.append(position.decode_contents())\n",
    "        except AttributeError:\n",
    "            break\n",
    "\n",
    "    return ''.join(answer_nodes).strip()\n",
    "\n",
    "\n",
    "def extract_qa(item):\n",
    "    \"\"\"\n",
    "    Extract the question and answer by an answer soup\n",
    "\n",
    "    Args: \n",
    "        item: The soup of the qa post \n",
    "\n",
    "    Returns:\n",
    "        A dictionary of the question and answer pairs \n",
    "    \"\"\"\n",
    "    title_tmp = item.select_one('li').decode_contents()\n",
    "    title = title_tmp.replace('<code>', '\\'').replace('</code>', '\\'')\n",
    "\n",
    "    # if 'What is the difference between tensor rank and shape?' in title:\n",
    "    #     print(111)\n",
    "\n",
    "    # Get the answer content\n",
    "    answer_inner_html = find_answer_nodes(item)  # Get original html\n",
    "\n",
    "    # Replace the code blocks\n",
    "    answer_inner_html = re.sub(r'<pre><code( class=\"[\\w-]+\")?>([\\s\\S]*?)</code></pre>', r'```\\2```', answer_inner_html)\n",
    "    answer_inner_html = answer_inner_html.replace('<code>', '\\'').replace('</code>', '\\'')\n",
    "\n",
    "    # Get content\n",
    "    answer_soup = BeautifulSoup(answer_inner_html, \"html.parser\")\n",
    "    answer = answer_soup.text\n",
    "\n",
    "    return {'title': title, 'answer': answer.strip()}\n",
    "\n",
    "\n",
    "def get_qa_post(post_url):\n",
    "    \"\"\"\n",
    "    Reads the main body of a forum post and returns the text of the post.\n",
    "    \n",
    "    Args:\n",
    "        post_url: The URL of the forum post.\n",
    "    \n",
    "    Returns:\n",
    "        The text of the forum post.\n",
    "    \"\"\"\n",
    "\n",
    "    # Read the HTML of the forum post\n",
    "    response = requests.get(post_url)\n",
    "    soup = BeautifulSoup(response.text, \"html.parser\")\n",
    "\n",
    "    items = soup.find_all('ol')\n",
    "\n",
    "    # Get the valid question titles\n",
    "    QAs = []\n",
    "    for i, item in enumerate(items):\n",
    "        # Only get question pairs\n",
    "        if i == 0 or 'start' in item.attrs:\n",
    "            QAs.append(extract_qa(item))\n",
    "\n",
    "    return QAs\n",
    "\n"
   ]
  },
  {
   "cell_type": "code",
   "execution_count": null,
   "metadata": {},
   "outputs": [],
   "source": [
    "import warnings\n",
    "warnings.simplefilter(action='ignore', category=FutureWarning)"
   ]
  },
  {
   "cell_type": "code",
   "execution_count": null,
   "metadata": {},
   "outputs": [],
   "source": [
    "# # get the forum post for 4 \n",
    "# url = \"https://forums.fast.ai/t/fastbook-chapter-4-questionnaire-solutions-wiki/67253\"\n",
    "# qa_dict = get_qa_post(url)\n",
    "# # print(qa_dict)\n",
    "# pd.DataFrame(qa_dict).to_csv('fastai-1.csv', index=False)"
   ]
  },
  {
   "cell_type": "code",
   "execution_count": null,
   "metadata": {},
   "outputs": [
    {
     "name": "stdout",
     "output_type": "stream",
     "text": [
      "0 https://forums.fast.ai/t/fastbook-chapter-1-questionnaire-solutions-wiki/65647\n",
      "https://forums.fast.ai/t/fastbook-chapter-1-questionnaire-solutions-wiki/65647\n",
      "1 https://forums.fast.ai/t/fastbook-chapter-2-questionnaire-solutions-wiki/66392\n",
      "https://forums.fast.ai/t/fastbook-chapter-2-questionnaire-solutions-wiki/66392\n",
      "2 https://forums.fast.ai/t/fastbook-chapter-3-questionnaire-solutions-wiki/68042\n",
      "https://forums.fast.ai/t/fastbook-chapter-3-questionnaire-solutions-wiki/68042\n",
      "3 https://forums.fast.ai/t/fastbook-chapter-4-questionnaire-solutions-wiki/67253\n",
      "https://forums.fast.ai/t/fastbook-chapter-4-questionnaire-solutions-wiki/67253\n",
      "4 https://forums.fast.ai/t/fastbook-chapter-5-questionnaire-solutions-wiki/69301\n",
      "https://forums.fast.ai/t/fastbook-chapter-5-questionnaire-solutions-wiki/69301\n",
      "5 https://forums.fast.ai/t/fastbook-chapter-6-questionnaire-solutions-wiki/69922\n",
      "https://forums.fast.ai/t/fastbook-chapter-6-questionnaire-solutions-wiki/69922\n",
      "6 nan\n",
      "7 https://forums.fast.ai/t/fastbook-chapter-8-questionnaire-solutions-wiki/69926\n",
      "https://forums.fast.ai/t/fastbook-chapter-8-questionnaire-solutions-wiki/69926\n",
      "8 https://forums.fast.ai/t/fastbook-chapter-9-questionnaire-solutions-wiki/69932\n",
      "https://forums.fast.ai/t/fastbook-chapter-9-questionnaire-solutions-wiki/69932\n",
      "9 https://forums.fast.ai/t/fastbook-chapter-10-questionnaire-solutions-wiki/70506\n",
      "https://forums.fast.ai/t/fastbook-chapter-10-questionnaire-solutions-wiki/70506\n",
      "10 https://forums.fast.ai/t/fastbook-chapter-11-questionnaire-solutions-wiki/88037\n",
      "https://forums.fast.ai/t/fastbook-chapter-11-questionnaire-solutions-wiki/88037\n"
     ]
    },
    {
     "name": "stderr",
     "output_type": "stream",
     "text": [
      "/usr/local/Caskroom/miniconda/base/envs/ml/lib/python3.10/site-packages/bs4/__init__.py:435: MarkupResemblesLocatorWarning: The input looks more like a filename than markup. You may want to open this file and pass the filehandle into Beautiful Soup.\n",
      "  warnings.warn(\n"
     ]
    },
    {
     "name": "stdout",
     "output_type": "stream",
     "text": [
      "11 https://forums.fast.ai/t/fastbook-chapter-12-questionnaire-wiki/70516\n",
      "https://forums.fast.ai/t/fastbook-chapter-12-questionnaire-wiki/70516\n",
      "12 nan\n",
      "13 nan\n",
      "14 nan\n",
      "15 nan\n",
      "16 nan\n",
      "17 nan\n",
      "18 nan\n",
      "19 nan\n"
     ]
    }
   ],
   "source": [
    "\n",
    "# loop through the pages and scrape the questions and answers\n",
    "qa_dict = []\n",
    "for i, row in forum_urls_df.iterrows():\n",
    "    # print(i, row['URL'])\n",
    "\n",
    "    # if it contains nan or is empty or is not a url, skip\n",
    "    if not pd.isna(row['URL']) and row['URL'].startswith('https'):\n",
    "        # print(row['URL'])\n",
    "        qa_dict.extend(get_qa_post(row['URL']))\n",
    "\n",
    "# save the questions and answers to a csv file\n",
    "qadict = pd.DataFrame(qa_dict)\n",
    "qadict.to_csv('fastai-2.csv', index=False)\n"
   ]
  },
  {
   "cell_type": "code",
   "execution_count": null,
   "metadata": {},
   "outputs": [
    {
     "name": "stdout",
     "output_type": "stream",
     "text": [
      "297\n"
     ]
    }
   ],
   "source": [
    "# print(qadict.head())\n",
    "print(len(qadict))"
   ]
  },
  {
   "cell_type": "markdown",
   "metadata": {},
   "source": [
    "## Format extracted content"
   ]
  },
  {
   "cell_type": "code",
   "execution_count": null,
   "metadata": {},
   "outputs": [
    {
     "data": {
      "text/html": [
       "<div>\n",
       "<style scoped>\n",
       "    .dataframe tbody tr th:only-of-type {\n",
       "        vertical-align: middle;\n",
       "    }\n",
       "\n",
       "    .dataframe tbody tr th {\n",
       "        vertical-align: top;\n",
       "    }\n",
       "\n",
       "    .dataframe thead th {\n",
       "        text-align: right;\n",
       "    }\n",
       "</style>\n",
       "<table border=\"1\" class=\"dataframe\">\n",
       "  <thead>\n",
       "    <tr style=\"text-align: right;\">\n",
       "      <th></th>\n",
       "      <th>question</th>\n",
       "      <th>answer</th>\n",
       "    </tr>\n",
       "  </thead>\n",
       "  <tbody>\n",
       "    <tr>\n",
       "      <th>0</th>\n",
       "      <td>Based on the book of the same name, what are t...</td>\n",
       "      <td>- A set of processing units\\n- A state of acti...</td>\n",
       "    </tr>\n",
       "    <tr>\n",
       "      <th>1</th>\n",
       "      <td>What were the two theoretical misunderstanding...</td>\n",
       "      <td>In 1969, Marvin Minsky and Seymour Papert demo...</td>\n",
       "    </tr>\n",
       "    <tr>\n",
       "      <th>2</th>\n",
       "      <td>What is a GPU?</td>\n",
       "      <td>GPU stands for Graphics Processing Unit (also ...</td>\n",
       "    </tr>\n",
       "    <tr>\n",
       "      <th>6</th>\n",
       "      <td>Why is it hard to use a traditional computer p...</td>\n",
       "      <td>For us humans, it is easy to identify images i...</td>\n",
       "    </tr>\n",
       "    <tr>\n",
       "      <th>7</th>\n",
       "      <td>What term do we normally use in deep learning ...</td>\n",
       "      <td>We instead use the term parameters. In deep le...</td>\n",
       "    </tr>\n",
       "  </tbody>\n",
       "</table>\n",
       "</div>"
      ],
      "text/plain": [
       "                                            question  \\\n",
       "0  Based on the book of the same name, what are t...   \n",
       "1  What were the two theoretical misunderstanding...   \n",
       "2                                     What is a GPU?   \n",
       "6  Why is it hard to use a traditional computer p...   \n",
       "7  What term do we normally use in deep learning ...   \n",
       "\n",
       "                                              answer  \n",
       "0  - A set of processing units\\n- A state of acti...  \n",
       "1  In 1969, Marvin Minsky and Seymour Papert demo...  \n",
       "2  GPU stands for Graphics Processing Unit (also ...  \n",
       "6  For us humans, it is easy to identify images i...  \n",
       "7  We instead use the term parameters. In deep le...  "
      ]
     },
     "metadata": {},
     "output_type": "display_data"
    }
   ],
   "source": [
    "# open the csv file, remove empty lines, and ensure every line has a question and answer, and ensure answers end with a '.' or ' 'ArithmeticError\n",
    "qa_df = pd.read_csv('fastai-qa-cropped.csv')\n",
    "qa_df = qa_df.dropna()\n",
    "# if an answer does not end with a '.' or ' ' or '`', add a '.'\n",
    "qa_df['answer'] = qa_df['answer'].apply(lambda x: x if x.endswith('.') or x.endswith(' ') or x.endswith('`') else x + '.')\n",
    "# save the questions and answers to a csv file\n",
    "qa_df.to_csv('fastai-qa-cleaned.csv', index=False)\n",
    "qa_df.head()"
   ]
  },
  {
   "cell_type": "markdown",
   "metadata": {},
   "source": []
  },
  {
   "cell_type": "markdown",
   "metadata": {},
   "source": [
    "### 2) Extract qa pairs from a raw GPT txt chat log "
   ]
  },
  {
   "cell_type": "code",
   "execution_count": null,
   "metadata": {},
   "outputs": [
    {
     "name": "stdout",
     "output_type": "stream",
     "text": [
      "57\n"
     ]
    }
   ],
   "source": [
    "# create a new df with the questions and answers\n",
    "gpt_df = pd.DataFrame()\n",
    "\n",
    "# add new columns to the df\n",
    "gpt_df['prompt'] = ''\n",
    "gpt_df['completion'] = ''\n",
    "gpt_df['question_id'] = 0\n",
    "\n",
    "question_i = 0\n",
    "\n",
    "# set the initial entry to empty values and question_id to 0\n",
    "gpt_df.loc[question_i, 'prompt'] = ''\n",
    "gpt_df.loc[question_i, 'completion'] = ''\n",
    "gpt_df.loc[question_i, 'question_id'] = 0\n",
    "\n",
    "with open('gpt-chat-log-cleaned.txt', 'r') as f:\n",
    "    lines = f.readlines()\n",
    "\n",
    "    for i, line in enumerate(lines):\n",
    "        # if it starts with \"Q: \", then it is a question\n",
    "        if line.startswith(\"Q: \"):\n",
    "            # add a new entry to the df with the question \n",
    "            gpt_df = gpt_df.append({'prompt': line[3:].strip(), 'completion': '', 'question_id': question_i}, ignore_index=True)\n",
    "            \n",
    "        # otherwise, append it to the answer for the current question\n",
    "            question_i += 1\n",
    "            # print(question_i)\n",
    "        else:\n",
    "            # add the answer to the df at the index question_i \n",
    "            # print(question_i)\n",
    "            # print(gpt_df.iloc[question_i]['answer'])\n",
    "            gpt_df.at[question_i, 'completion'] += line.strip() + ' '\n",
    "\n",
    "\n",
    "gpt_df.head()\n",
    "print(len(gpt_df))\n",
    "\n",
    "# save to csv \n",
    "# gpt_df.to_csv('gpt-qa.csv', index=False)\n",
    "\n",
    "# drop the question_id column\n",
    "gpt_df = gpt_df.drop(columns=['question_id'])\n",
    "# remove rows with empty questions\n",
    "gpt_df = gpt_df[gpt_df['prompt'] != '']\n",
    "gpt_df = gpt_df[gpt_df['completion'] != '']\n",
    "gpt_df = gpt_df.dropna()\n",
    "\n",
    "# replace all triple spaces with '\\n\\n' \n",
    "gpt_df['completion'] = gpt_df['completion'].apply(lambda x: x.replace('  ', ' \\n\\n'))\n",
    "\n",
    "gpt_df['completion'] = gpt_df['completion'].apply(lambda x: x.replace('```', '\\n```\\n'))\n",
    "\n",
    "\n",
    "# save to csv without the indices \n",
    "gpt_df.to_csv('gpt-qa-df.csv', index=False)\n"
   ]
  }
 ],
 "metadata": {
  "kernelspec": {
   "display_name": "Python 3.7.8 64-bit ('papers')",
   "language": "python",
   "name": "python3"
  },
  "language_info": {
   "name": "python",
   "version": "3.7.8"
  },
  "orig_nbformat": 4,
  "vscode": {
   "interpreter": {
    "hash": "1bf0429cbc4594f61fb4a70c70f57b312684948f13d28d948c6a6ee3f95ed4f0"
   }
  }
 },
 "nbformat": 4,
 "nbformat_minor": 2
}
